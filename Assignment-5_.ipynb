{
 "cells": [
  {
   "cell_type": "markdown",
   "metadata": {},
   "source": [
    " - Importing Libraries\n",
    " - Data Processing\n",
    "     - Data loading\n",
    "     - Data visualization\n",
    " - Data Augmentation\n",
    "     - Translation\n",
    "     - Rotation\n",
    "     - Combining augmented and original data\n",
    " - Building CNN Model\n",
    "     - Basic architecture:\n",
    "         - **(conv --> relu --> maxpool)*3 --> fc1 --> output**\n",
    "     - defining hyperparameters\n",
    "     - defining convolution and maxpool functions\n",
    "     - initializing weights and biases\n",
    "     - creating cnn model\n",
    "     - prediction using model\n",
    "     - checking training and testing accuracy\n",
    "     - **due to limitation of computation time, only 10 iterations(epochs) are performed**\n",
    "     - maximum test accuracy is achieved at 7th epoch:\n",
    "         - test_set accuracy = __53.44%__\n",
    "         - training_set accuracy = __82.03%__\n",
    "     \n",
    " - Modifying above CNN model using batch normalization and dropout:\n",
    "     - Basic architecture:\n",
    "         - **(conv --> relu--> maxpool --> dropout --> bn)*3 --> fc1 --> dropout --> bn --> output**\n",
    "     - creating cnn-bn model\n",
    "     - prediction using model\n",
    "     - checking training and testing accuracy\n",
    "     - **due to limitation of computation time, only 10 iterations(epochs) are performed**\n",
    "     - maximum test accuracy is achieved at 6th epoch\n",
    "         - test_set accuracy = __47.15%__\n",
    "         - training_set accuracy = __77.34%__"
   ]
  },
  {
   "cell_type": "code",
   "execution_count": 1,
   "metadata": {},
   "outputs": [],
   "source": [
    "import numpy as np\n",
    "import tensorflow as tf\n",
    "import matplotlib.pyplot as plt\n",
    "from mlxtend.data import loadlocal_mnist\n",
    "tf.logging.set_verbosity(tf.logging.ERROR) #to suppress errors"
   ]
  },
  {
   "cell_type": "markdown",
   "metadata": {},
   "source": [
    "# Data Processing"
   ]
  },
  {
   "cell_type": "code",
   "execution_count": 2,
   "metadata": {},
   "outputs": [],
   "source": [
    "x_train, y_train = loadlocal_mnist(images_path='train-images-idx3-ubyte', labels_path='train-labels-idx1-ubyte')\n",
    "x_test, y_test = loadlocal_mnist(images_path='t10k-images-idx3-ubyte', labels_path='t10k-labels-idx1-ubyte')"
   ]
  },
  {
   "cell_type": "code",
   "execution_count": 3,
   "metadata": {},
   "outputs": [],
   "source": [
    "#normalizing the input data\n",
    "\n",
    "x_train = x_train/255\n",
    "x_test = x_test/255"
   ]
  },
  {
   "cell_type": "code",
   "execution_count": 4,
   "metadata": {},
   "outputs": [],
   "source": [
    "#hot encoding of labels\n",
    "\n",
    "def onehot(y):\n",
    "    return np.eye(10)[y]\n",
    "\n",
    "y_train = onehot(y_train)\n",
    "y_test = onehot(y_test)\n",
    "x_train = x_train.reshape(len(x_train),28,28,1)\n",
    "x_test = x_test.reshape(len(x_test),28,28,1)"
   ]
  },
  {
   "cell_type": "code",
   "execution_count": 5,
   "metadata": {},
   "outputs": [
    {
     "name": "stdout",
     "output_type": "stream",
     "text": [
      "(60000, 28, 28, 1)\n",
      "(60000, 10)\n",
      "(10000, 28, 28, 1)\n",
      "(10000, 10)\n"
     ]
    }
   ],
   "source": [
    "print(x_train.shape)\n",
    "print(y_train.shape)\n",
    "print(x_test.shape)\n",
    "print(y_test.shape)"
   ]
  },
  {
   "cell_type": "code",
   "execution_count": 6,
   "metadata": {},
   "outputs": [
    {
     "data": {
      "text/plain": [
       "Text(0.5, 1.0, 'Label : Ankle_boot')"
      ]
     },
     "execution_count": 6,
     "metadata": {},
     "output_type": "execute_result"
    },
    {
     "data": {
      "image/png": "[encoded data removed]",
      "text/plain": [
       "<Figure size 288x288 with 2 Axes>"
      ]
     },
     "metadata": {
      "needs_background": "light"
     },
     "output_type": "display_data"
    }
   ],
   "source": [
    "#data visualization\n",
    "\n",
    "#dictionary containing all the labels in the output\n",
    "label_dict = {0:'T-shirt', 1:'Trouser', 2:'Pullover', 3:'Dress', 4:'Coat', 5:'Sandal', 6:'Shirt', 7:'Sneaker', 8:'Bag', 9:'Ankle_boot'}\n",
    "\n",
    "#size of the figure\n",
    "plt.figure(figsize=[4,4])\n",
    "\n",
    "#assigning leftmost part of the above figure which has 1 row and 2 columns\n",
    "plt.subplot(1,2,1)\n",
    "image_train = np.reshape(x_train[0], (28,28)) #extracting first training image of size (28,28)\n",
    "label_train = np.argmax(y_train[0,:]) #extracting label for the first training image\n",
    "plt.imshow(image_train, cmap='gray')\n",
    "plt.title('Label : ' + str(label_dict[label_train]))\n",
    "\n",
    "#assigning rightmost part of the above figure which has 1 row and 2 columns\n",
    "plt.subplot(1,2,2)\n",
    "image_test = np.reshape(x_test[0], (28,28)) #extracting first test image of size (28,28)\n",
    "label_test = np.argmax(y_test[0,:]) #extracting label for the first test image\n",
    "plt.imshow(image_test, cmap='gray')\n",
    "plt.title('Label : ' + str(label_dict[label_test]))"
   ]
  },
  {
   "cell_type": "markdown",
   "metadata": {},
   "source": [
    "# Data Augmentation"
   ]
  },
  {
   "cell_type": "code",
   "execution_count": 7,
   "metadata": {},
   "outputs": [],
   "source": [
    "import cv2"
   ]
  },
  {
   "cell_type": "code",
   "execution_count": 8,
   "metadata": {},
   "outputs": [
    {
     "name": "stdout",
     "output_type": "stream",
     "text": [
      "60000 28 28\n"
     ]
    }
   ],
   "source": [
    "#width = number of columns\n",
    "#height = number of rows\n",
    "\n",
    "n, rows, cols = x_train.shape[0], x_train.shape[1], x_train.shape[2]\n",
    "print(n, rows, cols)"
   ]
  },
  {
   "cell_type": "code",
   "execution_count": 9,
   "metadata": {
    "scrolled": true
   },
   "outputs": [
    {
     "data": {
      "text/plain": [
       "<matplotlib.image.AxesImage at 0x7f742400ceb8>"
      ]
     },
     "execution_count": 9,
     "metadata": {},
     "output_type": "execute_result"
    },
    {
     "data": {
      "image/png": "[encoded data removed]",
      "text/plain": [
       "<Figure size 288x288 with 1 Axes>"
      ]
     },
     "metadata": {
      "needs_background": "light"
     },
     "output_type": "display_data"
    }
   ],
   "source": [
    "#Translation\n",
    "\n",
    "def translation(x_train):\n",
    "    translated = []\n",
    "    for i in range(n):\n",
    "        M = np.float32([[1,0,3],[0,1,3]])\n",
    "        distorted = cv2.warpAffine(x_train[i], M, (cols,rows))\n",
    "        translated.append(distorted)\n",
    "    return translated\n",
    "\n",
    "trans = translation(x_train)\n",
    "\n",
    "plt.figure(figsize=[4,4])\n",
    "plt.subplot(1,2,1)\n",
    "image = np.reshape(trans[0], (28,28))\n",
    "plt.imshow(image, cmap='gray')"
   ]
  },
  {
   "cell_type": "code",
   "execution_count": 10,
   "metadata": {},
   "outputs": [
    {
     "name": "stdout",
     "output_type": "stream",
     "text": [
      "(60000, 28, 28, 1)\n"
     ]
    }
   ],
   "source": [
    "# augmented data after translation\n",
    "\n",
    "trans_aug = np.reshape(trans, (-1,28,28,1))\n",
    "print(trans_aug.shape)"
   ]
  },
  {
   "cell_type": "code",
   "execution_count": 11,
   "metadata": {},
   "outputs": [
    {
     "data": {
      "text/plain": [
       "<matplotlib.image.AxesImage at 0x7f740d4330b8>"
      ]
     },
     "execution_count": 11,
     "metadata": {},
     "output_type": "execute_result"
    },
    {
     "data": {
      "image/png": "[encoded data removed]",
      "text/plain": [
       "<Figure size 288x288 with 1 Axes>"
      ]
     },
     "metadata": {
      "needs_background": "light"
     },
     "output_type": "display_data"
    }
   ],
   "source": [
    "#Rotation\n",
    "\n",
    "def rotation(x_train):\n",
    "    rotated = []\n",
    "    for i in range(n):\n",
    "        M = cv2.getRotationMatrix2D((cols/2, rows/2), 90, 1)\n",
    "        distorted = cv2.warpAffine(x_train[i],M,(cols,rows))\n",
    "        rotated.append(distorted)\n",
    "    return rotated\n",
    "\n",
    "rot = rotation(x_train)\n",
    "\n",
    "plt.figure(figsize=[4,4])\n",
    "plt.subplot(121)\n",
    "image = np.reshape(rot[0], (28,28))\n",
    "plt.imshow(image, cmap='gray')"
   ]
  },
  {
   "cell_type": "code",
   "execution_count": 12,
   "metadata": {},
   "outputs": [
    {
     "data": {
      "text/plain": [
       "(60000, 28, 28, 1)"
      ]
     },
     "execution_count": 12,
     "metadata": {},
     "output_type": "execute_result"
    }
   ],
   "source": [
    "# augmented data after rotation\n",
    "\n",
    "rot_aug = np.reshape(rot, (-1,28,28,1))\n",
    "rot_aug.shape"
   ]
  },
  {
   "cell_type": "code",
   "execution_count": 13,
   "metadata": {},
   "outputs": [],
   "source": [
    "#final training data\n",
    "\n",
    "x_train1 = np.concatenate((x_train, trans_aug, rot_aug)) #(180000, 28, 28, 1)\n",
    "y_train1 = np.concatenate((y_train, y_train, y_train))   #(180000, 10)"
   ]
  },
  {
   "cell_type": "code",
   "execution_count": 16,
   "metadata": {},
   "outputs": [],
   "source": [
    "from sklearn.utils import shuffle\n",
    "x_train1, y_train1 = shuffle(x_train1, y_train1, random_state=0)"
   ]
  },
  {
   "cell_type": "markdown",
   "metadata": {},
   "source": [
    "# CNN Model"
   ]
  },
  {
   "cell_type": "code",
   "execution_count": 17,
   "metadata": {},
   "outputs": [],
   "source": [
    "#hyperparameters\n",
    "\n",
    "learning_rate = 0.001\n",
    "batch_size = 128"
   ]
  },
  {
   "cell_type": "code",
   "execution_count": 18,
   "metadata": {},
   "outputs": [],
   "source": [
    "num_classes = 10\n",
    "\n",
    "x = tf.placeholder('float', [None, 28, 28, 1])\n",
    "y = tf.placeholder('float', [None, num_classes])"
   ]
  },
  {
   "cell_type": "code",
   "execution_count": 19,
   "metadata": {},
   "outputs": [],
   "source": [
    "#strides[0]=1 means that we do not want to skip any data(example) in the batch\n",
    "#strides[1]=1 means that we do not want to skip any row\n",
    "#strides[2]=1 means that we do not want to skip any column\n",
    "#strides[3]=1 means that we do not want to skip in the channel\n",
    "\n",
    "#\"VALID\" means no padding\n",
    "#\"SAME\" results in padding the input such that the output has the same length as the original input\n",
    "\n",
    "def conv(x, w, b, s=1):\n",
    "    x = tf.nn.conv2d(x, w , strides = [1, s, s, 1], padding='SAME')\n",
    "    x = tf.nn.bias_add(x, b)\n",
    "    return tf.nn.relu(x)\n",
    "\n",
    "def maxpool(x, k=2):\n",
    "    return tf.nn.max_pool(x, ksize=[1, k, k, 1], strides=[1, k, k, 1], padding='VALID')"
   ]
  },
  {
   "cell_type": "code",
   "execution_count": 20,
   "metadata": {},
   "outputs": [],
   "source": [
    "#'wc1' - for first conv layer\n",
    "#'wc2' - for second conv layer\n",
    "#'wc3' - for third conv layer\n",
    "#'wd1' - for dense layer\n",
    "#'out' - for output layer\n",
    "\n",
    "weights = {'wc1': tf.get_variable('w1', shape=(3,3,1,32), initializer=tf.random_normal_initializer()),\n",
    "           'wc2': tf.get_variable('w2', shape=(3,3,32,64), initializer=tf.random_normal_initializer()),\n",
    "           'wc3': tf.get_variable('w3', shape=(3,3,64,128), initializer=tf.random_normal_initializer()),\n",
    "           'wd1': tf.get_variable('w4', shape=(3*3*128,128), initializer=tf.random_normal_initializer()),\n",
    "           'out': tf.get_variable('w5', shape=(128,num_classes), initializer=tf.random_normal_initializer())}\n",
    "           #128 - batch size; num_classes - 10\n",
    "    \n",
    "biases = {'bc1': tf.get_variable('b1', shape=(32), initializer=tf.random_normal_initializer()),\n",
    "          'bc2': tf.get_variable('b2', shape=(64), initializer=tf.random_normal_initializer()),\n",
    "          'bc3': tf.get_variable('b3', shape=(128), initializer=tf.random_normal_initializer()),\n",
    "          'bd1': tf.get_variable('b4', shape=(128), initializer=tf.random_normal_initializer()),\n",
    "          'out': tf.get_variable('b5', shape=(10), initializer=tf.random_normal_initializer())}"
   ]
  },
  {
   "cell_type": "code",
   "execution_count": 21,
   "metadata": {},
   "outputs": [],
   "source": [
    "def conv_net(x, weights, biases):\n",
    "#     print(x.shape)\n",
    "    conv1 = conv(x, weights['wc1'], biases['bc1'])  #(28,28,1) ---> (28,28,32)\n",
    "#     print(conv1.shape)\n",
    "    conv1 = maxpool(conv1, k=2) #(28,28,32) ---> (14,14,32)\n",
    "#     print(conv1.shape)\n",
    "    conv2 = conv(conv1, weights['wc2'], biases['bc2']) #(14,14,32) ---> (14,14,64)\n",
    "#     print(conv2.shape)\n",
    "    conv2 = maxpool(conv2, k=2) #(14,14,64) ---> (7,7,64)\n",
    "#     print(conv2.shape)\n",
    "    conv3 = conv(conv2, weights['wc3'], biases['bc3']) #(7,7,64) ---> (7,7,128)\n",
    "#     print(conv3.shape)\n",
    "    conv3 = maxpool(conv3, k=2) #(7,7,128) ---> (3,3,128)\n",
    "#     print(conv3.shape)\n",
    "    \n",
    "    fc1 = tf.reshape(conv3, [-1, 3*3*128]) #(batch, 1152)\n",
    "#     print(fc1.shape)\n",
    "    fc1 = tf.add(tf.matmul(fc1, weights['wd1']), biases['bd1']) #(batch,1152)*(1152,128) -> (batch,128)\n",
    "#     print(fc1.shape)\n",
    "    \n",
    "    out = tf.add(tf.matmul(fc1, weights['out']), biases['out']) #(batch,128)*(128,10) -> (batch,10)\n",
    "#     print(out.shape)\n",
    "    \n",
    "    return out #(batch,10)"
   ]
  },
  {
   "cell_type": "code",
   "execution_count": 22,
   "metadata": {},
   "outputs": [],
   "source": [
    "y_pred = conv_net(x, weights, biases)\n",
    "\n",
    "#The reason we use cross entropy as a loss/cost function is because\n",
    "#the cross-entropy function's value is always positive, and \n",
    "#tends toward zero as the neuron gets better at computing the desired output\n",
    "\n",
    "cost = tf.reduce_mean(tf.nn.softmax_cross_entropy_with_logits(logits=y_pred, labels=y))\n",
    "\n",
    "optimizer = tf.train.AdamOptimizer(learning_rate=learning_rate).minimize(cost)"
   ]
  },
  {
   "cell_type": "code",
   "execution_count": 23,
   "metadata": {},
   "outputs": [],
   "source": [
    "correct_pred = tf.equal(tf.argmax(y_pred, 1), tf.argmax(y,1)) #of boolean data type\n",
    "\n",
    "accuracy = tf.reduce_mean(tf.cast(correct_pred, tf.float32))"
   ]
  },
  {
   "cell_type": "code",
   "execution_count": 24,
   "metadata": {},
   "outputs": [
    {
     "name": "stdout",
     "output_type": "stream",
     "text": [
      "Number of batches =  1406\n"
     ]
    }
   ],
   "source": [
    "print(\"Number of batches = \",len(x_train1)//batch_size)"
   ]
  },
  {
   "cell_type": "code",
   "execution_count": null,
   "metadata": {},
   "outputs": [
    {
     "name": "stdout",
     "output_type": "stream",
     "text": [
      "epoch 1, Loss= 3418.697510, Training Accuracy = 0.65625\n",
      "Optimization Finished!\n",
      "Testing Accuracy: 0.69860\n",
      "epoch 2, Loss= 1393.191895, Training Accuracy = 0.74219\n",
      "Optimization Finished!\n",
      "Testing Accuracy: 0.74900\n",
      "epoch 3, Loss= 951.273438, Training Accuracy = 0.75000\n",
      "Optimization Finished!\n",
      "Testing Accuracy: 0.75700\n",
      "epoch 4, Loss= 519.903503, Training Accuracy = 0.78125\n",
      "Optimization Finished!\n",
      "Testing Accuracy: 0.77190\n",
      "epoch 5, Loss= 332.747162, Training Accuracy = 0.76562\n",
      "Optimization Finished!\n"
     ]
    }
   ],
   "source": [
    "iters = 10\n",
    "\n",
    "with tf.Session() as sess:\n",
    "    sess.run(tf.global_variables_initializer())\n",
    "    \n",
    "    train_loss = []\n",
    "    train_accuracy = []\n",
    "    test_loss = []\n",
    "    test_accuracy = []\n",
    "    saver = tf.train.Saver()\n",
    "    accu = 0\n",
    "    \n",
    "    for i in range(iters):\n",
    "        for batch in range(len(x_train1)//batch_size):\n",
    "            x_batch = x_train1[batch*batch_size:min((batch+1)*batch_size, len(x_train1))]\n",
    "            y_batch = y_train1[batch*batch_size:min((batch+1)*batch_size, len(y_train1))]\n",
    "            \n",
    "            opt = sess.run(optimizer, feed_dict={x:x_batch, y:y_batch})\n",
    "            \n",
    "            loss, acc = sess.run([cost, accuracy], feed_dict={x:x_batch, y:y_batch})\n",
    "        \n",
    "        print(\"epoch \" + str(i+1) + \", Loss= \" + \"{:.6f}\".format(loss) + \", Training Accuracy = \" + \\\n",
    "             \"{:.5f}\".format(acc))\n",
    "        print(\"Optimization Finished!\")\n",
    "        \n",
    "        test_acc, valid_loss = sess.run([accuracy, cost], feed_dict={x:x_test, y:y_test})\n",
    "        \n",
    "        train_loss.append(loss)\n",
    "        test_loss.append(valid_loss)\n",
    "        train_accuracy.append(acc)\n",
    "        test_accuracy.append(test_acc)\n",
    "        \n",
    "        print(\"Testing Accuracy:\", \"{:.5f}\".format(test_acc))\n",
    "        \n",
    "        if(test_acc > accu):\n",
    "            accu = test_acc\n",
    "            saver.save(sess,'result')\n",
    "            \n",
    "#     summary.close()"
   ]
  },
  {
   "cell_type": "code",
   "execution_count": 1,
   "metadata": {},
   "outputs": [
    {
     "ename": "NameError",
     "evalue": "name 'test_accuracy' is not defined",
     "output_type": "error",
     "traceback": [
      "\u001b[0;31m---------------------------------------------------------------------------\u001b[0m",
      "\u001b[0;31mNameError\u001b[0m                                 Traceback (most recent call last)",
      "\u001b[0;32m<ipython-input-1-fce4bcf71519>\u001b[0m in \u001b[0;36m<module>\u001b[0;34m\u001b[0m\n\u001b[0;32m----> 1\u001b[0;31m \u001b[0mmax\u001b[0m\u001b[0;34m(\u001b[0m\u001b[0mtest_accuracy\u001b[0m\u001b[0;34m)\u001b[0m\u001b[0;34m\u001b[0m\u001b[0;34m\u001b[0m\u001b[0m\n\u001b[0m",
      "\u001b[0;31mNameError\u001b[0m: name 'test_accuracy' is not defined"
     ]
    }
   ],
   "source": [
    "max(test_accuracy)"
   ]
  },
  {
   "cell_type": "code",
   "execution_count": 41,
   "metadata": {},
   "outputs": [
    {
     "data": {
      "text/plain": [
       "0.8515625"
      ]
     },
     "execution_count": 41,
     "metadata": {},
     "output_type": "execute_result"
    }
   ],
   "source": [
    "max(train_accuracy)"
   ]
  },
  {
   "cell_type": "code",
   "execution_count": 23,
   "metadata": {},
   "outputs": [
    {
     "data": {
      "text/plain": [
       "<matplotlib.legend.Legend at 0x7ff2046b27b8>"
      ]
     },
     "execution_count": 23,
     "metadata": {},
     "output_type": "execute_result"
    },
    {
     "data": {
      "image/png": "[encoded data removed]",
      "text/plain": [
       "<Figure size 432x288 with 1 Axes>"
      ]
     },
     "metadata": {
      "needs_background": "light"
     },
     "output_type": "display_data"
    }
   ],
   "source": [
    "plt.plot(np.arange(10), train_accuracy, label='Train_Accuracy')\n",
    "plt.plot(np.arange(10), test_accuracy, label='Test_Accuracy')\n",
    "\n",
    "plt.xlabel('Iterations')\n",
    "plt.legend()"
   ]
  },
  {
   "cell_type": "markdown",
   "metadata": {},
   "source": [
    "# Modifying the above architecture using batch normalization, dropout"
   ]
  },
  {
   "cell_type": "code",
   "execution_count": 28,
   "metadata": {},
   "outputs": [],
   "source": [
    "def conv_net_bn(x, weights, biases):\n",
    "    conv1 = conv(x, weights['wc1'], biases['bc1'])  #(28,28,1) ---> (28,28,32)\n",
    "    conv1 = maxpool(conv1, k=2) #(28,28,32) ---> (14,14,32)\n",
    "    conv1 = tf.layers.batch_normalization(conv1, momentum=0.9)\n",
    "#     conv1 = tf.layers.dropout(conv1, rate=0.4) #40% inputs get removed\n",
    "    \n",
    "    conv2 = conv(conv1, weights['wc2'], biases['bc2']) #(14,14,32) ---> (14,14,64)\n",
    "    conv2 = maxpool(conv2, k=2) #(14,14,64) ---> (7,7,64)\n",
    "#     conv2 = tf.layers.dropout(conv2, rate=0.4)\n",
    "    conv2 = tf.layers.batch_normalization(conv2, momentum=0.9)\n",
    "    \n",
    "    \n",
    "    conv3 = conv(conv2, weights['wc3'], biases['bc3']) #(7,7,64) ---> (7,7,128)\n",
    "    conv3 = maxpool(conv3, k=2) #(7,7,128) ---> (3,3,128)\n",
    "#     conv3 = tf.layers.dropout(conv3, rate=0.4)\n",
    "    conv3 = tf.layers.batch_normalization(conv3, momentum=0.9)\n",
    "    \n",
    "    \n",
    "    fc1 = tf.reshape(conv3, [-1, 3*3*128]) #(batch, 1152)\n",
    "    fc1 = tf.add(tf.matmul(fc1, weights['wd1']), biases['bd1']) #(batch,1152)*(1152,128) -> (batch,128)\n",
    "    fc1 = tf.layers.dropout(fc1, rate=0.4)\n",
    "    fc1 = tf.layers.batch_normalization(fc1, momentum=0.9)\n",
    "    \n",
    "    out = tf.add(tf.matmul(fc1, weights['out']), biases['out']) #(batch,128)*(128,10) -> (batch,10)\n",
    "    \n",
    "    return out #(batch,10)"
   ]
  },
  {
   "cell_type": "code",
   "execution_count": 29,
   "metadata": {},
   "outputs": [],
   "source": [
    "y_pred_bn = conv_net_bn(x, weights, biases)\n",
    "\n",
    "#The reason we use cross entropy as a loss/cost function is because\n",
    "#the cross-entropy function's value is always positive, and \n",
    "#tends toward zero as the neuron gets better at computing the desired output\n",
    "\n",
    "cost_bn = tf.reduce_mean(tf.nn.softmax_cross_entropy_with_logits(logits=y_pred_bn, labels=y))\n",
    "\n",
    "optimizer_bn = tf.train.AdamOptimizer(learning_rate=learning_rate).minimize(cost_bn)"
   ]
  },
  {
   "cell_type": "code",
   "execution_count": null,
   "metadata": {},
   "outputs": [],
   "source": [
    "correct_pred_bn = tf.equal(tf.argmax(y_pred_bn, 1), tf.argmax(y,1)) #of boolean data type\n",
    "\n",
    "accuracy_bn = tf.reduce_mean(tf.cast(correct_pred_bn, tf.float32))"
   ]
  },
  {
   "cell_type": "code",
   "execution_count": 33,
   "metadata": {},
   "outputs": [
    {
     "name": "stdout",
     "output_type": "stream",
     "text": [
      "epoch 1, Loss= 1683.454590, Training Accuracy = 0.72656\n",
      "Optimization Finished!\n",
      "Testing Accuracy: 0.11610\n",
      "epoch 2, Loss= 604.589294, Training Accuracy = 0.78125\n",
      "Optimization Finished!\n",
      "Testing Accuracy: 0.25960\n",
      "epoch 3, Loss= 422.064178, Training Accuracy = 0.80469\n",
      "Optimization Finished!\n",
      "Testing Accuracy: 0.36550\n",
      "epoch 4, Loss= 213.842468, Training Accuracy = 0.81250\n",
      "Optimization Finished!\n",
      "Testing Accuracy: 0.41090\n",
      "epoch 5, Loss= 126.933929, Training Accuracy = 0.81250\n",
      "Optimization Finished!\n",
      "Testing Accuracy: 0.46250\n",
      "epoch 6, Loss= 78.478882, Training Accuracy = 0.77344\n",
      "Optimization Finished!\n",
      "Testing Accuracy: 0.47150\n",
      "epoch 7, Loss= 39.262947, Training Accuracy = 0.79688\n",
      "Optimization Finished!\n",
      "Testing Accuracy: 0.38030\n",
      "epoch 8, Loss= 15.683969, Training Accuracy = 0.81250\n",
      "Optimization Finished!\n",
      "Testing Accuracy: 0.38700\n",
      "epoch 9, Loss= 5.816041, Training Accuracy = 0.77344\n",
      "Optimization Finished!\n",
      "Testing Accuracy: 0.25540\n",
      "epoch 10, Loss= 2.262261, Training Accuracy = 0.77344\n",
      "Optimization Finished!\n",
      "Testing Accuracy: 0.16170\n"
     ]
    }
   ],
   "source": [
    "iters = 10\n",
    "\n",
    "with tf.Session() as sess:\n",
    "    sess.run(tf.global_variables_initializer())\n",
    "    \n",
    "    train_loss_bn = []\n",
    "    train_accuracy_bn = []\n",
    "    test_loss_bn = []\n",
    "    test_accuracy_bn = []\n",
    "    saver_bn = tf.train.Saver()\n",
    "    accu_bn = 0\n",
    "    \n",
    "    for i in range(iters):\n",
    "        for batch in range(len(x_train1)//batch_size):\n",
    "            x_batch = x_train1[batch*batch_size:min((batch+1)*batch_size, len(x_train1))]\n",
    "            y_batch = y_train1[batch*batch_size:min((batch+1)*batch_size, len(y_train1))]\n",
    "            \n",
    "            opt_bn = sess.run(optimizer_bn, feed_dict={x:x_batch, y:y_batch})\n",
    "            \n",
    "            loss_bn, acc_bn = sess.run([cost_bn, accuracy_bn], feed_dict={x:x_batch, y:y_batch})\n",
    "        \n",
    "        print(\"epoch \" + str(i+1) + \", Loss= \" + \"{:.6f}\".format(loss_bn) + \", Training Accuracy = \" + \\\n",
    "             \"{:.5f}\".format(acc_bn))\n",
    "        print(\"Optimization Finished!\")\n",
    "        \n",
    "        test_acc_bn, valid_loss_bn = sess.run([accuracy_bn, cost_bn], feed_dict={x:x_test, y:y_test})\n",
    "        \n",
    "        train_loss_bn.append(loss_bn)\n",
    "        test_loss_bn.append(valid_loss_bn)\n",
    "        train_accuracy_bn.append(acc_bn)\n",
    "        test_accuracy_bn.append(test_acc_bn)\n",
    "        \n",
    "        print(\"Testing Accuracy:\", \"{:.5f}\".format(test_acc_bn))\n",
    "        \n",
    "        if(test_acc_bn > accu_bn):\n",
    "            accu_bn = test_acc_bn\n",
    "            saver_bn.save(sess,'result_bn')\n",
    "    \n",
    "#     summary.close()"
   ]
  },
  {
   "cell_type": "code",
   "execution_count": 38,
   "metadata": {},
   "outputs": [
    {
     "data": {
      "text/plain": [
       "0.4715"
      ]
     },
     "execution_count": 38,
     "metadata": {},
     "output_type": "execute_result"
    }
   ],
   "source": [
    "max(test_accuracy_bn)"
   ]
  },
  {
   "cell_type": "code",
   "execution_count": 39,
   "metadata": {},
   "outputs": [
    {
     "data": {
      "text/plain": [
       "0.8125"
      ]
     },
     "execution_count": 39,
     "metadata": {},
     "output_type": "execute_result"
    }
   ],
   "source": [
    "max(train_accuracy_bn)"
   ]
  },
  {
   "cell_type": "code",
   "execution_count": 34,
   "metadata": {},
   "outputs": [
    {
     "data": {
      "text/plain": [
       "<matplotlib.legend.Legend at 0x7ff1f45ded30>"
      ]
     },
     "execution_count": 34,
     "metadata": {},
     "output_type": "execute_result"
    },
    {
     "data": {
      "image/png": "[encoded data removed]",
      "text/plain": [
       "<Figure size 432x288 with 1 Axes>"
      ]
     },
     "metadata": {
      "needs_background": "light"
     },
     "output_type": "display_data"
    }
   ],
   "source": [
    "plt.plot(np.arange(10), train_accuracy_bn, label='Train_Accuracy')\n",
    "plt.plot(np.arange(10), test_accuracy_bn, label='Test_Accuracy')\n",
    "\n",
    "plt.xlabel('Iterations')\n",
    "plt.legend()"
   ]
  },
  {
   "cell_type": "code",
   "execution_count": null,
   "metadata": {},
   "outputs": [],
   "source": []
  }
 ],
 "metadata": {
  "kernelspec": {
   "display_name": "Python 3",
   "language": "python",
   "name": "python3"
  },
  "language_info": {
   "codemirror_mode": {
    "name": "ipython",
    "version": 3
   },
   "file_extension": ".py",
   "mimetype": "text/x-python",
   "name": "python",
   "nbconvert_exporter": "python",
   "pygments_lexer": "ipython3",
   "version": "3.7.3"
  }
 },
 "nbformat": 4,
 "nbformat_minor": 2
}
